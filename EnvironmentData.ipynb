{
 "cells": [
  {
   "cell_type": "code",
   "execution_count": 44,
   "id": "30dfabf7-f046-477b-b911-8140e3da30bb",
   "metadata": {},
   "outputs": [],
   "source": [
    "import pandas as pd\n",
    "import numpy as np\n",
    "import matplotlib.pyplot as plt\n",
    "from sklearn.model_selection import train_test_split\n",
    "from sklearn.ensemble import RandomForestClassifier\n",
    "from sklearn.metrics import classification_report,confusion_matrix,accuracy_score\n",
    "\n",
    "\n",
    "\n"
   ]
  },
  {
   "cell_type": "code",
   "execution_count": 46,
   "id": "f9d04a3e-5b37-40ef-a712-5b7257154c21",
   "metadata": {},
   "outputs": [
    {
     "name": "stdout",
     "output_type": "stream",
     "text": [
      "         Date            Location  Latitude  Longitude  SST (°C)  pH Level  \\\n",
      "0  2015-01-01             Red Sea   20.0248    38.4931     29.47     8.107   \n",
      "1  2015-01-07  Great Barrier Reef  -18.2988   147.7782     29.65     8.004   \n",
      "2  2015-01-14       Caribbean Sea   14.9768   -75.0233     28.86     7.947   \n",
      "3  2015-01-20  Great Barrier Reef  -18.3152   147.6486     28.97     7.995   \n",
      "4  2015-01-27           Galápagos   -0.8805   -90.9769     28.60     7.977   \n",
      "\n",
      "  Bleaching Severity  Species Observed  Marine Heatwave  \n",
      "0                NaN               106            False  \n",
      "1               High               116            False  \n",
      "2               High                90            False  \n",
      "3             Medium                94            False  \n",
      "4                NaN               110            False  \n"
     ]
    }
   ],
   "source": [
    "filePath = r\"C:\\Users\\Dell\\Downloads\\realistic_ocean_climate_dataset.csv\"\n",
    "df = pd.read_csv(filePath)\n",
    "print(df.head())"
   ]
  },
  {
   "cell_type": "code",
   "execution_count": 50,
   "id": "65b28ec2-8a32-4ee2-a836-e92f95310989",
   "metadata": {},
   "outputs": [],
   "source": [
    "# Convert 'Date' to datetime\n",
    "df['Date'] = pd.to_datetime(df['Date'])\n",
    "\n",
    "# Create new features\n",
    "df['Year'] = df['Date'].dt.year\n",
    "df['Month'] = df['Date'].dt.month\n",
    "df['Day'] = df['Date'].dt.day\n",
    "\n",
    "# Then drop original date column\n",
    "df = df.drop(columns=['Date'])\n"
   ]
  },
  {
   "cell_type": "code",
   "execution_count": 52,
   "id": "471a04e9-a636-428a-97db-b6adb14bbba8",
   "metadata": {},
   "outputs": [
    {
     "data": {
      "text/plain": [
       "Location                0\n",
       "Latitude                0\n",
       "Longitude               0\n",
       "SST (°C)                0\n",
       "pH Level                0\n",
       "Bleaching Severity    150\n",
       "Species Observed        0\n",
       "Marine Heatwave         0\n",
       "Year                    0\n",
       "Month                   0\n",
       "Day                     0\n",
       "dtype: int64"
      ]
     },
     "execution_count": 52,
     "metadata": {},
     "output_type": "execute_result"
    }
   ],
   "source": [
    "df.isnull().sum()"
   ]
  },
  {
   "cell_type": "code",
   "execution_count": 54,
   "id": "6cf84876-0a6b-4f17-94e5-b1d4f0930ef9",
   "metadata": {},
   "outputs": [
    {
     "data": {
      "text/plain": [
       "0      False\n",
       "1      False\n",
       "2      False\n",
       "3      False\n",
       "4      False\n",
       "       ...  \n",
       "495    False\n",
       "496    False\n",
       "497    False\n",
       "498    False\n",
       "499    False\n",
       "Length: 500, dtype: bool"
      ]
     },
     "execution_count": 54,
     "metadata": {},
     "output_type": "execute_result"
    }
   ],
   "source": [
    "df.duplicated()"
   ]
  },
  {
   "cell_type": "code",
   "execution_count": 56,
   "id": "7fd9412a-2795-49ae-8189-c72db96fa952",
   "metadata": {},
   "outputs": [
    {
     "data": {
      "text/html": [
       "<div>\n",
       "<style scoped>\n",
       "    .dataframe tbody tr th:only-of-type {\n",
       "        vertical-align: middle;\n",
       "    }\n",
       "\n",
       "    .dataframe tbody tr th {\n",
       "        vertical-align: top;\n",
       "    }\n",
       "\n",
       "    .dataframe thead th {\n",
       "        text-align: right;\n",
       "    }\n",
       "</style>\n",
       "<table border=\"1\" class=\"dataframe\">\n",
       "  <thead>\n",
       "    <tr style=\"text-align: right;\">\n",
       "      <th></th>\n",
       "      <th>Location</th>\n",
       "      <th>Latitude</th>\n",
       "      <th>Longitude</th>\n",
       "      <th>SST (°C)</th>\n",
       "      <th>pH Level</th>\n",
       "      <th>Bleaching Severity</th>\n",
       "      <th>Species Observed</th>\n",
       "      <th>Marine Heatwave</th>\n",
       "      <th>Year</th>\n",
       "      <th>Month</th>\n",
       "      <th>Day</th>\n",
       "    </tr>\n",
       "  </thead>\n",
       "  <tbody>\n",
       "  </tbody>\n",
       "</table>\n",
       "</div>"
      ],
      "text/plain": [
       "Empty DataFrame\n",
       "Columns: [Location, Latitude, Longitude, SST (°C), pH Level, Bleaching Severity, Species Observed, Marine Heatwave, Year, Month, Day]\n",
       "Index: []"
      ]
     },
     "execution_count": 56,
     "metadata": {},
     "output_type": "execute_result"
    }
   ],
   "source": [
    "\n",
    "\n",
    "df[df.duplicated()]\n"
   ]
  },
  {
   "cell_type": "code",
   "execution_count": 58,
   "id": "feb6debc-faf0-4e58-862e-0737ced2b2f3",
   "metadata": {},
   "outputs": [],
   "source": [
    "df['Marine Heatwave'] = df['Marine Heatwave'].astype(int)"
   ]
  },
  {
   "cell_type": "code",
   "execution_count": 60,
   "id": "77db3727-139c-4fba-9ee5-6661a9c0c7b3",
   "metadata": {},
   "outputs": [
    {
     "data": {
      "text/plain": [
       "array(['Red Sea', 'Great Barrier Reef', 'Caribbean Sea', 'Galápagos',\n",
       "       'South China Sea', 'Maldives', 'Hawaiian Islands'], dtype=object)"
      ]
     },
     "execution_count": 60,
     "metadata": {},
     "output_type": "execute_result"
    }
   ],
   "source": [
    "df['Location'].unique()"
   ]
  },
  {
   "cell_type": "code",
   "execution_count": 72,
   "id": "ffac7a4d-b9fa-4003-b3f9-a83d611d64a4",
   "metadata": {},
   "outputs": [
    {
     "name": "stdout",
     "output_type": "stream",
     "text": [
      "Index(['Location', 'Latitude', 'Longitude', 'SST (°C)', 'pH Level',\n",
      "       'Bleaching Severity', 'Species Observed', 'Marine Heatwave', 'Year',\n",
      "       'Month', 'Day'],\n",
      "      dtype='object')\n"
     ]
    }
   ],
   "source": [
    "#df = pd.get_dummies(df,columns=['Location'])\n",
    "print(df.columns)"
   ]
  },
  {
   "cell_type": "code",
   "execution_count": 74,
   "id": "89daddd1-1884-4eb1-a2f1-e4d6f2291a98",
   "metadata": {},
   "outputs": [],
   "source": [
    "#select Feature And Target \n",
    "\n",
    "#Target Variable \n",
    "y = df['Marine Heatwave']\n",
    "\n",
    "#Feature Matrix [Drop Targeted Column]\n",
    "\n",
    "X = df.drop(columns = ['Marine Heatwave'])\n",
    "\n"
   ]
  },
  {
   "cell_type": "code",
   "execution_count": 76,
   "id": "1185b167-3b2f-446e-a405-3759871eac9a",
   "metadata": {},
   "outputs": [],
   "source": [
    "#split the data \n",
    "\n",
    "X_train ,X_test , y_train,y_test = train_test_split(\n",
    "    X,y,test_size = 0.2,random_state = 42\n",
    ")"
   ]
  },
  {
   "cell_type": "code",
   "execution_count": 82,
   "id": "d0c2c432-c13f-440f-a87c-009676c2384f",
   "metadata": {},
   "outputs": [
    {
     "name": "stdout",
     "output_type": "stream",
     "text": [
      "Index(['Location', 'Bleaching Severity'], dtype='object')\n"
     ]
    }
   ],
   "source": [
    "#model = RandomForestClassifier(n_estimators=100, random_state=42)\n",
    "#model.fit(X_train, y_train)\n",
    "# Check for non-numeric columns\n",
    "non_numeric_columns = df.select_dtypes(include=['object']).columns\n",
    "print(non_numeric_columns)\n"
   ]
  },
  {
   "cell_type": "code",
   "execution_count": 88,
   "id": "cfccb78f-3196-4dad-88d6-162c3e0a0b66",
   "metadata": {},
   "outputs": [],
   "source": [
    "# One-hot encode the 'Location' column\n",
    "df = pd.get_dummies(df, columns=['Location'], drop_first=True)\n"
   ]
  },
  {
   "cell_type": "code",
   "execution_count": 90,
   "id": "f5993563-6f2c-4dde-b90f-03ceb48885e3",
   "metadata": {},
   "outputs": [],
   "source": [
    "# Convert 'Bleaching Severity' to numeric (if it's categorical)\n",
    "df['Bleaching Severity'] = df['Bleaching Severity'].map({'Low': 0, 'Medium': 1, 'High': 2})\n"
   ]
  },
  {
   "cell_type": "code",
   "execution_count": 92,
   "id": "07259564-b233-4ade-95aa-220eb1883338",
   "metadata": {},
   "outputs": [
    {
     "name": "stdout",
     "output_type": "stream",
     "text": [
      "   Latitude  Longitude  SST (°C)  pH Level  Bleaching Severity  \\\n",
      "0   20.0248    38.4931     29.47     8.107                 NaN   \n",
      "1  -18.2988   147.7782     29.65     8.004                 2.0   \n",
      "2   14.9768   -75.0233     28.86     7.947                 2.0   \n",
      "3  -18.3152   147.6486     28.97     7.995                 1.0   \n",
      "4   -0.8805   -90.9769     28.60     7.977                 NaN   \n",
      "\n",
      "   Species Observed  Marine Heatwave  Year  Month  Day  Location_Galápagos  \\\n",
      "0               106                0  2015      1    1               False   \n",
      "1               116                0  2015      1    7               False   \n",
      "2                90                0  2015      1   14               False   \n",
      "3                94                0  2015      1   20               False   \n",
      "4               110                0  2015      1   27                True   \n",
      "\n",
      "   Location_Great Barrier Reef  Location_Hawaiian Islands  Location_Maldives  \\\n",
      "0                        False                      False              False   \n",
      "1                         True                      False              False   \n",
      "2                        False                      False              False   \n",
      "3                         True                      False              False   \n",
      "4                        False                      False              False   \n",
      "\n",
      "   Location_Red Sea  Location_South China Sea  \n",
      "0              True                     False  \n",
      "1             False                     False  \n",
      "2             False                     False  \n",
      "3             False                     False  \n",
      "4             False                     False  \n"
     ]
    }
   ],
   "source": [
    "print(df.head())\n"
   ]
  },
  {
   "cell_type": "code",
   "execution_count": 98,
   "id": "d63ac6d5-83d1-40cf-9334-0468e69f41de",
   "metadata": {},
   "outputs": [
    {
     "name": "stdout",
     "output_type": "stream",
     "text": [
      "Location               object\n",
      "Latitude              float64\n",
      "Longitude             float64\n",
      "SST (°C)              float64\n",
      "pH Level              float64\n",
      "Bleaching Severity     object\n",
      "Species Observed        int64\n",
      "Year                    int32\n",
      "Month                   int32\n",
      "Day                     int32\n",
      "dtype: object\n"
     ]
    }
   ],
   "source": [
    "\n",
    "print(X.dtypes)\n"
   ]
  },
  {
   "cell_type": "code",
   "execution_count": 100,
   "id": "71becc44-d01c-4e00-b132-d6e95d0ac8e8",
   "metadata": {},
   "outputs": [],
   "source": [
    "\n",
    "X = pd.get_dummies(X, columns=['Location'], drop_first=True)\n"
   ]
  },
  {
   "cell_type": "code",
   "execution_count": 102,
   "id": "849078b8-3a42-445e-9c4e-338eb7f6f020",
   "metadata": {},
   "outputs": [],
   "source": [
    "from sklearn.preprocessing import LabelEncoder\n",
    "\n",
    "\n",
    "le = LabelEncoder()\n",
    "\n",
    "\n",
    "X['Bleaching Severity'] = le.fit_transform(X['Bleaching Severity'])\n"
   ]
  },
  {
   "cell_type": "code",
   "execution_count": 104,
   "id": "fd40c303-2b7e-4c69-8ad2-cd0de39ed0bc",
   "metadata": {},
   "outputs": [
    {
     "name": "stdout",
     "output_type": "stream",
     "text": [
      "Latitude                       float64\n",
      "Longitude                      float64\n",
      "SST (°C)                       float64\n",
      "pH Level                       float64\n",
      "Bleaching Severity               int32\n",
      "Species Observed                 int64\n",
      "Year                             int32\n",
      "Month                            int32\n",
      "Day                              int32\n",
      "Location_Galápagos                bool\n",
      "Location_Great Barrier Reef       bool\n",
      "Location_Hawaiian Islands         bool\n",
      "Location_Maldives                 bool\n",
      "Location_Red Sea                  bool\n",
      "Location_South China Sea          bool\n",
      "dtype: object\n"
     ]
    }
   ],
   "source": [
    "\n",
    "print(X.dtypes)\n"
   ]
  },
  {
   "cell_type": "code",
   "execution_count": 106,
   "id": "da303524-a034-4d1f-9b9a-8dc49ddab27c",
   "metadata": {},
   "outputs": [
    {
     "name": "stdout",
     "output_type": "stream",
     "text": [
      "(400, 10) (100, 10) (400,) (100,)\n"
     ]
    }
   ],
   "source": [
    "print(X_train.shape, X_test.shape, y_train.shape, y_test.shape)"
   ]
  },
  {
   "cell_type": "code",
   "execution_count": 110,
   "id": "5e996c43-abb6-497e-8cc4-312cba9d6149",
   "metadata": {},
   "outputs": [
    {
     "name": "stdout",
     "output_type": "stream",
     "text": [
      "Latitude                       float64\n",
      "Longitude                      float64\n",
      "SST (°C)                       float64\n",
      "pH Level                       float64\n",
      "Bleaching Severity               int32\n",
      "Species Observed                 int64\n",
      "Year                             int32\n",
      "Month                            int32\n",
      "Day                              int32\n",
      "Location_Galápagos                bool\n",
      "Location_Great Barrier Reef       bool\n",
      "Location_Hawaiian Islands         bool\n",
      "Location_Maldives                 bool\n",
      "Location_Red Sea                  bool\n",
      "Location_South China Sea          bool\n",
      "dtype: object\n"
     ]
    }
   ],
   "source": [
    "\n",
    "print(X.dtypes)\n"
   ]
  },
  {
   "cell_type": "code",
   "execution_count": 112,
   "id": "1e93bf2a-4066-401d-9707-f789a8c45646",
   "metadata": {},
   "outputs": [
    {
     "name": "stdout",
     "output_type": "stream",
     "text": [
      "Accuracy: 1.00\n",
      "Confusion Matrix:\n",
      "[[81  0]\n",
      " [ 0 19]]\n",
      "\n",
      "Classification Report:\n",
      "              precision    recall  f1-score   support\n",
      "\n",
      "           0       1.00      1.00      1.00        81\n",
      "           1       1.00      1.00      1.00        19\n",
      "\n",
      "    accuracy                           1.00       100\n",
      "   macro avg       1.00      1.00      1.00       100\n",
      "weighted avg       1.00      1.00      1.00       100\n",
      "\n"
     ]
    }
   ],
   "source": [
    "\n",
    "\n",
    "\n",
    "y = df['Marine Heatwave']  # Target column\n",
    "X = df.drop(columns=['Marine Heatwave'])  # Features\n",
    "\n",
    "\n",
    "X_train, X_test, y_train, y_test = train_test_split(X, y, test_size=0.2, random_state=42)\n",
    "\n",
    "\n",
    "model = RandomForestClassifier(n_estimators=100, random_state=42)\n",
    "\n",
    "\n",
    "model.fit(X_train, y_train)\n",
    "\n",
    "\n",
    "y_pred = model.predict(X_test)\n",
    "\n",
    "\n",
    "accuracy = accuracy_score(y_test, y_pred)\n",
    "print(f\"Accuracy: {accuracy:.2f}\")\n",
    "\n",
    "\n",
    "print(\"Confusion Matrix:\")\n",
    "print(confusion_matrix(y_test, y_pred))\n",
    "\n",
    "\n",
    "print(\"\\nClassification Report:\")\n",
    "print(classification_report(y_test, y_pred))\n"
   ]
  },
  {
   "cell_type": "code",
   "execution_count": 114,
   "id": "bacf13d4-c2eb-4ab3-8d30-24677356ff73",
   "metadata": {},
   "outputs": [
    {
     "data": {
      "image/png": "[encoded data removed]",
      "text/plain": [
       "<Figure size 640x480 with 1 Axes>"
      ]
     },
     "metadata": {},
     "output_type": "display_data"
    }
   ],
   "source": [
    "\n",
    "feature_importances = model.feature_importances_\n",
    "\n",
    "\n",
    "sorted_idx = feature_importances.argsort()\n",
    "\n",
    "\n",
    "import matplotlib.pyplot as plt\n",
    "\n",
    "plt.barh(X.columns[sorted_idx], feature_importances[sorted_idx])\n",
    "plt.xlabel(\"Feature Importance\")\n",
    "plt.title(\"Feature Importance for Random Forest Model\")\n",
    "plt.show()\n"
   ]
  },
  {
   "cell_type": "code",
   "execution_count": 116,
   "id": "7ed04a64-9d72-4da6-ad8f-a1cb4adab58d",
   "metadata": {},
   "outputs": [],
   "source": [
    "df.to_csv('heatwave_dataset.csv',index=False)"
   ]
  },
  {
   "cell_type": "code",
   "execution_count": null,
   "id": "eb5353ab-bda3-4bda-acd1-3237c6bc6c72",
   "metadata": {},
   "outputs": [],
   "source": []
  }
 ],
 "metadata": {
  "kernelspec": {
   "display_name": "Python 3 (ipykernel)",
   "language": "python",
   "name": "python3"
  },
  "language_info": {
   "codemirror_mode": {
    "name": "ipython",
    "version": 3
   },
   "file_extension": ".py",
   "mimetype": "text/x-python",
   "name": "python",
   "nbconvert_exporter": "python",
   "pygments_lexer": "ipython3",
   "version": "3.12.4"
  }
 },
 "nbformat": 4,
 "nbformat_minor": 5
}
